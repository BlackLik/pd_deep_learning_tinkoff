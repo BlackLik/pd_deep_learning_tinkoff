{
 "cells": [
  {
   "cell_type": "markdown",
   "id": "2bcc2b85-7ea0-4dbb-8970-5ea346a3c870",
   "metadata": {},
   "source": [
    "# Подключение библиотек"
   ]
  },
  {
   "cell_type": "code",
   "execution_count": null,
   "id": "99c4d84f-da63-4669-b54c-477dbf20f4af",
   "metadata": {},
   "outputs": [],
   "source": [
    "import numpy as np\n",
    "import pandas as pd\n",
    "from sklearn.model_selection import train_test_split\n",
    "import matplotlib.pyplot as plt\n",
    "import yfinance"
   ]
  },
  {
   "cell_type": "code",
   "execution_count": null,
   "id": "c488af2b-4a5c-4a5b-b167-82716156bbd2",
   "metadata": {},
   "outputs": [],
   "source": [
    "def draw_plot(X, y):\n",
    "    plt.plot(X, y, color='b')\n",
    "    plt.scatter(X, y, color='b')"
   ]
  },
  {
   "cell_type": "markdown",
   "id": "75dc35c8-c0c7-4ab6-a023-8f61b71e906f",
   "metadata": {},
   "source": [
    "# Настройки модели"
   ]
  },
  {
   "cell_type": "code",
   "execution_count": null,
   "id": "f86c2227-38be-48ab-be99-87002c472daa",
   "metadata": {},
   "outputs": [],
   "source": [
    "time_frame = '1mo'\n",
    "period = 'max'\n",
    "ticket_name = 'SBER.ME'"
   ]
  },
  {
   "cell_type": "code",
   "execution_count": null,
   "id": "f16472e1-197a-405c-9ce0-7fd35cf17d44",
   "metadata": {},
   "outputs": [],
   "source": [
    "tiker = yfinance.Ticker(ticket_name)\n",
    "tiker.info"
   ]
  },
  {
   "cell_type": "code",
   "execution_count": null,
   "id": "4877f161-6cc1-49fd-94f6-19b51c0d1b53",
   "metadata": {},
   "outputs": [],
   "source": [
    "df = tiker.history(interval=time_frame, period=period)\n",
    "df = df.dropna()\n",
    "df"
   ]
  },
  {
   "cell_type": "code",
   "execution_count": null,
   "id": "37d55008-f58c-4fba-afd9-f95e3b22068b",
   "metadata": {},
   "outputs": [],
   "source": [
    "plt.figure(figsize=(30, 9))\n",
    "plt.plot(df.index.values, df['Close'].values, label=f'Close {ticket_name}')\n",
    "plt.plot(df.index.values, df['Open'].values, label=f'Open {ticket_name}')\n",
    "plt.legend()\n",
    "plt.grid(1)\n",
    "plt.show()"
   ]
  },
  {
   "cell_type": "code",
   "execution_count": null,
   "id": "34df85e1-531d-4add-ba30-151a0cc6e84d",
   "metadata": {},
   "outputs": [],
   "source": [
    "data_frame = pd.DataFrame({'Date': np.array([np.int64(i) for i in np.array(df.index.values)]), 'Open': df['Open'].values, 'Close': df['Close'].values})\n",
    "data_frame"
   ]
  },
  {
   "cell_type": "code",
   "execution_count": null,
   "id": "1a6354df-e2d1-4e24-9b72-cddca6af526e",
   "metadata": {},
   "outputs": [],
   "source": [
    "train, test = train_test_split(data_frame, test_size=0.33)"
   ]
  }
 ],
 "metadata": {
  "kernelspec": {
   "display_name": "Python 3 (ipykernel)",
   "language": "python",
   "name": "python3"
  },
  "language_info": {
   "codemirror_mode": {
    "name": "ipython",
    "version": 3
   },
   "file_extension": ".py",
   "mimetype": "text/x-python",
   "name": "python",
   "nbconvert_exporter": "python",
   "pygments_lexer": "ipython3",
   "version": "3.9.7"
  }
 },
 "nbformat": 4,
 "nbformat_minor": 5
}
